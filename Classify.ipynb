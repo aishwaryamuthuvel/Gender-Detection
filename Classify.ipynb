{
 "cells": [
  {
   "cell_type": "code",
   "execution_count": 2,
   "metadata": {},
   "outputs": [],
   "source": [
    "from sklearn import svm\n",
    "from sklearn import neural_network\n",
    "from sklearn import mixture\n",
    "from sklearn import metrics \n",
    "import pandas as pd\n",
    "import numpy as np\n",
    "import matplotlib.pyplot as plt\n",
    "import os\n",
    "import warnings\n",
    "warnings.filterwarnings('ignore')"
   ]
  },
  {
   "cell_type": "code",
   "execution_count": 88,
   "metadata": {},
   "outputs": [],
   "source": [
    "# 0 - Male \n",
    "# 1 - Female\n",
    "x_train = np.zeros((60,12)) \n",
    "y_train = np.zeros((60,1))\n",
    "x_test = np.zeros((19,12)) \n",
    "y_test = np.zeros((19,1))\n",
    "x_t = np.zeros((20,12))\n",
    "y_t = np.zeros((20,1))"
   ]
  },
  {
   "cell_type": "code",
   "execution_count": 89,
   "metadata": {},
   "outputs": [],
   "source": [
    "i=0\n",
    "for c in os.listdir('./Dataset/Training/Male'):\n",
    "    x = pd.read_csv('./Dataset/Training/Male/'+c, header=None)\n",
    "    x_m = np.mean(x)\n",
    "    x_train[i] = x_m\n",
    "    y_train[i] = 0\n",
    "    i=i+1\n",
    "for c in os.listdir('./Dataset/Training/Female'):\n",
    "    x = pd.read_csv('./Dataset/Training/Female/'+c, header=None)\n",
    "    x_m = np.mean(x)\n",
    "    x_train[i] = x_m\n",
    "    y_train[i] = 1\n",
    "    i=i+1"
   ]
  },
  {
   "cell_type": "code",
   "execution_count": 90,
   "metadata": {},
   "outputs": [],
   "source": [
    "i=0\n",
    "for c in os.listdir('./Dataset/Validation/Male'):\n",
    "    x = pd.read_csv('./Dataset/Validation/Male/'+c, header=None)\n",
    "    x_m = np.mean(x)\n",
    "    x_test[i] = x_m\n",
    "    y_test[i] = 0\n",
    "    i=i+1\n",
    "for c in os.listdir('./Dataset/Validation/Female'):\n",
    "    x = pd.read_csv('./Dataset/Validation/Female/'+c, header=None)\n",
    "    x_m = np.mean(x)\n",
    "    x_test[i] = x_m\n",
    "    y_test[i] = 1\n",
    "    i=i+1"
   ]
  },
  {
   "cell_type": "code",
   "execution_count": 91,
   "metadata": {},
   "outputs": [],
   "source": [
    "i=0\n",
    "for c in os.listdir('./Dataset/Testing/Male'):\n",
    "    x = pd.read_csv('./Dataset/Testing/Male/'+c, header=None)\n",
    "    x_m = np.mean(x)\n",
    "    x_t[i] = x_m\n",
    "    y_t[i] = 0\n",
    "    i=i+1\n",
    "for c in os.listdir('./Dataset/Testing/Female'):\n",
    "    x = pd.read_csv('./Dataset/Testing/Female/'+c, header=None)\n",
    "    x_m = np.mean(x)\n",
    "    x_t[i] = x_m\n",
    "    y_t[i] = 1\n",
    "    i=i+1"
   ]
  },
  {
   "cell_type": "code",
   "execution_count": 114,
   "metadata": {},
   "outputs": [],
   "source": [
    "def classify(model,x_train,y_train,x_test,y_test):\n",
    "    model.fit(x_train,y_train)\n",
    "    t_male = 0\n",
    "    t_female = 0\n",
    "    f_male = 0\n",
    "    f_female = 0\n",
    "    y_pred = model.predict(x_test)\n",
    "    for i in range(len(y_test)):\n",
    "        if y_test[i] == 0:\n",
    "            if y_test[i]==y_pred[i]:\n",
    "                t_male = t_male+1\n",
    "            else:\n",
    "                f_female = f_female+1\n",
    "        elif y_test[i] == 1:\n",
    "            if y_test[i] == y_pred[i]:\n",
    "                t_female = t_female+1\n",
    "            else:\n",
    "                f_male = f_male+1\n",
    "                \n",
    "    print(\"Confusion Matrix:\")            \n",
    "    print(\"Predicted\\Actual   Male    Female\")\n",
    "    print(\"Male                \",t_male,\"    \",f_male)\n",
    "    print(\"Female              \",f_female,\"   \",t_female)\n",
    "    print(\"Accuracy:\",((t_male+t_female)/len(y_test)))\n",
    "    print(\"Error Rate:\",((f_male+f_female)/len(y_test)),\"\\n\")\n",
    "    print(\"Prediction of Males\")\n",
    "    print(\"-------------------\")\n",
    "    print(\"Precision:\",(t_male/(t_male+f_male)))\n",
    "    print(\"Recall:\",(t_male/(t_male+f_female)),\"\\n\")\n",
    "    print(\"Prediction of Females\")\n",
    "    print(\"---------------------\")\n",
    "    print(\"Precision:\",(t_female/(t_female+f_female)))\n",
    "    print(\"Recall:\",(t_female/(t_female+f_male)))"
   ]
  },
  {
   "cell_type": "markdown",
   "metadata": {},
   "source": [
    "# SVM"
   ]
  },
  {
   "cell_type": "code",
   "execution_count": 177,
   "metadata": {},
   "outputs": [],
   "source": [
    "def svm_kernel(x_train,y_train,x_test,y_test):\n",
    "    rate=[]\n",
    "    kernel=['rbf','poly','linear','sigmoid']\n",
    "    for i in kernel:\n",
    "        model=svm.SVC(kernel=i).fit(x_train,y_train)\n",
    "        y_pred=model.predict(x_train)\n",
    "        print(\"Kernel:\",i)\n",
    "        print('Training data accuracy:', metrics.accuracy_score(y_train,y_pred))\n",
    "        y_pred=model.predict(x_test)\n",
    "        print('Validation data accuracy: ', metrics.accuracy_score(y_test,y_pred),'\\n')\n",
    "        rate.append(metrics.accuracy_score(y_test,y_pred))\n",
    "    nloc = rate.index(max(rate))\n",
    "    print(\"Highest accuracy is %s occurs at %s kernel.\" % (rate[nloc], kernel[nloc]))\n",
    "    return kernel[nloc]"
   ]
  },
  {
   "cell_type": "code",
   "execution_count": 178,
   "metadata": {},
   "outputs": [
    {
     "name": "stdout",
     "output_type": "stream",
     "text": [
      "Kernel: rbf\n",
      "Training data accuracy: 1.0\n",
      "Validation data accuracy:  0.6842105263157895 \n",
      "\n",
      "Kernel: poly\n",
      "Training data accuracy: 1.0\n",
      "Validation data accuracy:  0.9473684210526315 \n",
      "\n",
      "Kernel: linear\n",
      "Training data accuracy: 1.0\n",
      "Validation data accuracy:  1.0 \n",
      "\n",
      "Kernel: sigmoid\n",
      "Training data accuracy: 0.5\n",
      "Validation data accuracy:  0.47368421052631576 \n",
      "\n",
      "Highest accuracy is 1.0 occurs at linear kernel.\n"
     ]
    }
   ],
   "source": [
    "k=svm_kernel(x_train,y_train,x_test,y_test)"
   ]
  },
  {
   "cell_type": "code",
   "execution_count": 115,
   "metadata": {},
   "outputs": [
    {
     "name": "stdout",
     "output_type": "stream",
     "text": [
      "Confusion Matrix:\n",
      "Predicted\\Actual   Male    Female\n",
      "Male                 8      0\n",
      "Female               2     10\n",
      "Accuracy: 0.9\n",
      "Error Rate: 0.1 \n",
      "\n",
      "Prediction of Males\n",
      "-------------------\n",
      "Precision: 1.0\n",
      "Recall: 0.8 \n",
      "\n",
      "Prediction of Females\n",
      "---------------------\n",
      "Precision: 0.8333333333333334\n",
      "Recall: 1.0\n"
     ]
    }
   ],
   "source": [
    "model=svm.SVC(kernel=k)\n",
    "classify(model,x_train,y_train,x_t,y_t)"
   ]
  },
  {
   "cell_type": "markdown",
   "metadata": {},
   "source": [
    "# NN"
   ]
  },
  {
   "cell_type": "code",
   "execution_count": 126,
   "metadata": {},
   "outputs": [],
   "source": [
    "def nn_error(n,x_train,y_train,x_test,y_test):\n",
    "    error_rate = []\n",
    "    hidden_layer=range(1,n)\n",
    "    for i in hidden_layer:\n",
    "        model = neural_network.MLPClassifier(solver='adam', alpha=1e-5,hidden_layer_sizes=i,activation='logistic',random_state=17,max_iter=20000)\n",
    "        model.fit(x_train, y_train)\n",
    "        y_pred = model.predict(x_test)\n",
    "        count=0\n",
    "        for j in range(len(y_test)):\n",
    "            if y_test[j] != y_pred[j]:\n",
    "                count = count+1\n",
    "        error_rate.append((count/len(y_test)))\n",
    "    kloc = error_rate.index(min(error_rate))\n",
    "    print(\"Lowest error is %s occurs at hidden layer size=%s.\" % (error_rate[kloc], hidden_layer[kloc]))\n",
    "\n",
    "    plt.plot(hidden_layer, error_rate, color='blue', linestyle='dashed', marker='o',\n",
    "             markerfacecolor='red', markersize=5)\n",
    "    plt.title('Error Rate vs. Hidden Layer Size')\n",
    "    plt.xlabel('Size')\n",
    "    plt.ylabel('Error Rate')\n",
    "    plt.show()\n",
    "    return hidden_layer[kloc]"
   ]
  },
  {
   "cell_type": "code",
   "execution_count": 179,
   "metadata": {},
   "outputs": [
    {
     "name": "stdout",
     "output_type": "stream",
     "text": [
      "Lowest error is 0.0 occurs at hidden layer size=8.\n"
     ]
    },
    {
     "data": {
      "image/png": "[encoded data removed]",
      "text/plain": [
       "<Figure size 432x288 with 1 Axes>"
      ]
     },
     "metadata": {
      "needs_background": "light"
     },
     "output_type": "display_data"
    },
    {
     "name": "stdout",
     "output_type": "stream",
     "text": [
      "Confusion Matrix:\n",
      "Predicted\\Actual   Male    Female\n",
      "Male                 9      0\n",
      "Female               1     10\n",
      "Accuracy: 0.95\n",
      "Error Rate: 0.05 \n",
      "\n",
      "Prediction of Males\n",
      "-------------------\n",
      "Precision: 1.0\n",
      "Recall: 0.9 \n",
      "\n",
      "Prediction of Females\n",
      "---------------------\n",
      "Precision: 0.9090909090909091\n",
      "Recall: 1.0\n"
     ]
    }
   ],
   "source": [
    "h=nn_error(11,x_train,y_train,x_test,y_test)\n",
    "model = neural_network.MLPClassifier(solver='adam', alpha=1e-5,hidden_layer_sizes=h,activation='logistic',random_state=17,max_iter=20000)\n",
    "classify(model,x_train,y_train,x_t,y_t)"
   ]
  },
  {
   "cell_type": "markdown",
   "metadata": {},
   "source": [
    "# GMM"
   ]
  },
  {
   "cell_type": "code",
   "execution_count": 155,
   "metadata": {},
   "outputs": [],
   "source": [
    "female_features = np.zeros((30,12))\n",
    "male_features = np.zeros((30,12))\n",
    "f=0\n",
    "m=0\n",
    "for i in range(len(y_train)):\n",
    "    if y_train[i]==0:\n",
    "        male_features[m]=x_train[i]\n",
    "        m=m+1\n",
    "    else:\n",
    "        female_features[f]=x_train[i]\n",
    "        f=f+1"
   ]
  },
  {
   "cell_type": "code",
   "execution_count": 165,
   "metadata": {},
   "outputs": [],
   "source": [
    "def gmm_parameters (n,male_features,female_features,x_test,y_test):\n",
    "    accuracy = []\n",
    "    for c in range(1,n):\n",
    "        females_gmm = mixture.GaussianMixture(n_components=c, covariance_type='full')\n",
    "        males_gmm   = mixture.GaussianMixture(n_components=c, covariance_type='full')\n",
    "        females_gmm.fit(female_features)\n",
    "        males_gmm.fit(male_features)\n",
    "        acc=0\n",
    "        for i in range(len(y_test)):\n",
    "            if y_test[i] == 0:\n",
    "                if males_gmm.score([x_test[i]])>females_gmm.score([x_test[i]]):\n",
    "                    acc=acc+1\n",
    "            else:\n",
    "                if females_gmm.score([x_test[i]])>males_gmm.score([x_test[i]]):\n",
    "                    acc=acc+1\n",
    "        accuracy.append((acc/len(y_test)))\n",
    "        \n",
    "    kloc = accuracy.index(max(accuracy))\n",
    "    print(\"Highest accuracy is %s occurs at components=%s.\" % (accuracy[kloc], kloc+1))\n",
    "\n",
    "    plt.plot(range(1,n), accuracy, color='blue', linestyle='dashed', marker='o',markerfacecolor='red', markersize=5)\n",
    "    plt.title('Accuracy vs. Number of Gaussian Components')\n",
    "    plt.xlabel('Number of Gaussian components')\n",
    "    plt.ylabel('Accuracy')\n",
    "    plt.show()\n",
    "    return kloc+1\n",
    "                    "
   ]
  },
  {
   "cell_type": "code",
   "execution_count": 168,
   "metadata": {},
   "outputs": [
    {
     "name": "stdout",
     "output_type": "stream",
     "text": [
      "Highest accuracy is 0.8947368421052632 occurs at components=1.\n"
     ]
    },
    {
     "data": {
      "image/png": "[encoded data removed]",
      "text/plain": [
       "<Figure size 432x288 with 1 Axes>"
      ]
     },
     "metadata": {
      "needs_background": "light"
     },
     "output_type": "display_data"
    }
   ],
   "source": [
    "n = gmm_parameters (6,male_features,female_features,x_test,y_test)"
   ]
  },
  {
   "cell_type": "code",
   "execution_count": 169,
   "metadata": {},
   "outputs": [
    {
     "data": {
      "text/plain": [
       "GaussianMixture(covariance_type='full', init_params='kmeans', max_iter=100,\n",
       "                means_init=None, n_components=1, n_init=1, precisions_init=None,\n",
       "                random_state=None, reg_covar=1e-06, tol=0.001, verbose=0,\n",
       "                verbose_interval=10, warm_start=False, weights_init=None)"
      ]
     },
     "execution_count": 169,
     "metadata": {},
     "output_type": "execute_result"
    }
   ],
   "source": [
    "females_gmm = mixture.GaussianMixture(n_components=n, covariance_type='full')\n",
    "males_gmm   = mixture.GaussianMixture(n_components=n, covariance_type='full')\n",
    "females_gmm.fit(female_features)\n",
    "males_gmm.fit(male_features)"
   ]
  },
  {
   "cell_type": "code",
   "execution_count": 172,
   "metadata": {},
   "outputs": [
    {
     "name": "stdout",
     "output_type": "stream",
     "text": [
      "Confusion Matrix:\n",
      "Predicted\\Actual   Male    Female\n",
      "Male                 8      0\n",
      "Female               2     10\n",
      "Accuracy: 0.9\n",
      "Error Rate: 0.1 \n",
      "\n",
      "Prediction of Males\n",
      "-------------------\n",
      "Precision: 1.0\n",
      "Recall: 0.8 \n",
      "\n",
      "Prediction of Females\n",
      "---------------------\n",
      "Precision: 0.8333333333333334\n",
      "Recall: 1.0\n"
     ]
    }
   ],
   "source": [
    "t_male = 0\n",
    "t_female = 0\n",
    "f_male = 0\n",
    "f_female = 0\n",
    "for i in range(len(y_t)):\n",
    "            if y_t[i] == 0:\n",
    "                if males_gmm.score([x_t[i]])>females_gmm.score([x_t[i]]):\n",
    "                    t_male = t_male+1\n",
    "                else:\n",
    "                    f_female = f_female+1\n",
    "            else:\n",
    "                if females_gmm.score([x_t[i]])>males_gmm.score([x_t[i]]):\n",
    "                    t_female=t_female+1\n",
    "                else:\n",
    "                    f_male=f_male+1\n",
    "print(\"Confusion Matrix:\")            \n",
    "print(\"Predicted\\Actual   Male    Female\")\n",
    "print(\"Male                \",t_male,\"    \",f_male)\n",
    "print(\"Female              \",f_female,\"   \",t_female)\n",
    "print(\"Accuracy:\",((t_male+t_female)/len(y_t)))\n",
    "print(\"Error Rate:\",((f_male+f_female)/len(y_t)),\"\\n\")\n",
    "print(\"Prediction of Males\")\n",
    "print(\"-------------------\")\n",
    "print(\"Precision:\",(t_male/(t_male+f_male)))\n",
    "print(\"Recall:\",(t_male/(t_male+f_female)),\"\\n\")\n",
    "print(\"Prediction of Females\")\n",
    "print(\"---------------------\")\n",
    "print(\"Precision:\",(t_female/(t_female+f_female)))\n",
    "print(\"Recall:\",(t_female/(t_female+f_male)))"
   ]
  }
 ],
 "metadata": {
  "kernelspec": {
   "display_name": "Python 3",
   "language": "python",
   "name": "python3"
  },
  "language_info": {
   "codemirror_mode": {
    "name": "ipython",
    "version": 3
   },
   "file_extension": ".py",
   "mimetype": "text/x-python",
   "name": "python",
   "nbconvert_exporter": "python",
   "pygments_lexer": "ipython3",
   "version": "3.7.3"
  }
 },
 "nbformat": 4,
 "nbformat_minor": 2
}
